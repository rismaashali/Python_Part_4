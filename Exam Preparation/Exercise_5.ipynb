{
 "cells": [
  {
   "cell_type": "code",
   "execution_count": 4,
   "id": "dd01829d",
   "metadata": {},
   "outputs": [],
   "source": [
    "#Exercise 1(a)\n",
    "def increment_score(score, bonus, points):\n",
    "    if bonus == True:\n",
    "        points = points*2\n",
    "    score = score + points\n",
    "    return score\n",
    "points = 5\n",
    "score = 10\n",
    "new_score = increment_score(score, True, points)"
   ]
  },
  {
   "cell_type": "code",
   "execution_count": 20,
   "id": "ef66ec44",
   "metadata": {},
   "outputs": [
    {
     "data": {
      "text/plain": [
       "20"
      ]
     },
     "execution_count": 20,
     "metadata": {},
     "output_type": "execute_result"
    }
   ],
   "source": [
    "increment_score(score,True,points)"
   ]
  },
  {
   "cell_type": "code",
   "execution_count": 22,
   "id": "aee554b7",
   "metadata": {},
   "outputs": [],
   "source": [
    "#Exercise 1(a)\n",
    "def increment_score(score, bonus, points=1):\n",
    "    if bonus == True:\n",
    "        points = points*2\n",
    "    score = score + points\n",
    "    return score\n",
    "points = 5\n",
    "score = 10\n",
    "new_score = increment_score(score, True, points)"
   ]
  },
  {
   "cell_type": "code",
   "execution_count": 23,
   "id": "1cceefeb",
   "metadata": {},
   "outputs": [
    {
     "data": {
      "text/plain": [
       "20"
      ]
     },
     "execution_count": 23,
     "metadata": {},
     "output_type": "execute_result"
    }
   ],
   "source": [
    "increment_score(score,True,points)"
   ]
  },
  {
   "cell_type": "code",
   "execution_count": 24,
   "id": "27e437d6",
   "metadata": {},
   "outputs": [
    {
     "data": {
      "text/plain": [
       "12"
      ]
     },
     "execution_count": 24,
     "metadata": {},
     "output_type": "execute_result"
    }
   ],
   "source": [
    "increment_score(score,True,1)"
   ]
  },
  {
   "cell_type": "code",
   "execution_count": 25,
   "id": "c299dcd9",
   "metadata": {},
   "outputs": [
    {
     "ename": "TypeError",
     "evalue": "unsupported operand type(s) for *: 'NoneType' and 'int'",
     "output_type": "error",
     "traceback": [
      "\u001b[1;31m---------------------------------------------------------------------------\u001b[0m",
      "\u001b[1;31mTypeError\u001b[0m                                 Traceback (most recent call last)",
      "\u001b[1;32m~\\AppData\\Local\\Temp/ipykernel_34396/1808874580.py\u001b[0m in \u001b[0;36m<module>\u001b[1;34m\u001b[0m\n\u001b[1;32m----> 1\u001b[1;33m \u001b[0mincrement_score\u001b[0m\u001b[1;33m(\u001b[0m\u001b[1;36m1\u001b[0m\u001b[1;33m,\u001b[0m\u001b[1;32mTrue\u001b[0m\u001b[1;33m,\u001b[0m\u001b[1;32mNone\u001b[0m\u001b[1;33m)\u001b[0m\u001b[1;33m\u001b[0m\u001b[1;33m\u001b[0m\u001b[0m\n\u001b[0m",
      "\u001b[1;32m~\\AppData\\Local\\Temp/ipykernel_34396/3568705094.py\u001b[0m in \u001b[0;36mincrement_score\u001b[1;34m(score, bonus, points)\u001b[0m\n\u001b[0;32m      2\u001b[0m \u001b[1;32mdef\u001b[0m \u001b[0mincrement_score\u001b[0m\u001b[1;33m(\u001b[0m\u001b[0mscore\u001b[0m\u001b[1;33m,\u001b[0m \u001b[0mbonus\u001b[0m\u001b[1;33m,\u001b[0m \u001b[0mpoints\u001b[0m\u001b[1;33m=\u001b[0m\u001b[1;36m1\u001b[0m\u001b[1;33m)\u001b[0m\u001b[1;33m:\u001b[0m\u001b[1;33m\u001b[0m\u001b[1;33m\u001b[0m\u001b[0m\n\u001b[0;32m      3\u001b[0m     \u001b[1;32mif\u001b[0m \u001b[0mbonus\u001b[0m \u001b[1;33m==\u001b[0m \u001b[1;32mTrue\u001b[0m\u001b[1;33m:\u001b[0m\u001b[1;33m\u001b[0m\u001b[1;33m\u001b[0m\u001b[0m\n\u001b[1;32m----> 4\u001b[1;33m         \u001b[0mpoints\u001b[0m \u001b[1;33m=\u001b[0m \u001b[0mpoints\u001b[0m\u001b[1;33m*\u001b[0m\u001b[1;36m2\u001b[0m\u001b[1;33m\u001b[0m\u001b[1;33m\u001b[0m\u001b[0m\n\u001b[0m\u001b[0;32m      5\u001b[0m     \u001b[0mscore\u001b[0m \u001b[1;33m=\u001b[0m \u001b[0mscore\u001b[0m \u001b[1;33m+\u001b[0m \u001b[0mpoints\u001b[0m\u001b[1;33m\u001b[0m\u001b[1;33m\u001b[0m\u001b[0m\n\u001b[0;32m      6\u001b[0m     \u001b[1;32mreturn\u001b[0m \u001b[0mscore\u001b[0m\u001b[1;33m\u001b[0m\u001b[1;33m\u001b[0m\u001b[0m\n",
      "\u001b[1;31mTypeError\u001b[0m: unsupported operand type(s) for *: 'NoneType' and 'int'"
     ]
    }
   ],
   "source": [
    "#Exercise 1(c)\n",
    "increment_score(1,True,None)"
   ]
  },
  {
   "cell_type": "code",
   "execution_count": 26,
   "id": "c3b1199a",
   "metadata": {},
   "outputs": [],
   "source": [
    "#Exercise 1(d)\n",
    "def increment_score(score, bonus, points=1):\n",
    "    if bonus == True:\n",
    "        points = points*3\n",
    "    score = score + points\n",
    "    return score\n",
    "points = 5\n",
    "score = 10\n",
    "new_score = increment_score(score, True, points)"
   ]
  },
  {
   "cell_type": "code",
   "execution_count": 28,
   "id": "e1362b01",
   "metadata": {},
   "outputs": [
    {
     "data": {
      "text/plain": [
       "16"
      ]
     },
     "execution_count": 28,
     "metadata": {},
     "output_type": "execute_result"
    }
   ],
   "source": [
    "increment_score(1,True,points)"
   ]
  },
  {
   "cell_type": "code",
   "execution_count": 36,
   "id": "c4ef4e6f",
   "metadata": {},
   "outputs": [],
   "source": [
    "#Exercise 1(d)\n",
    "def increment_score(score, bonus, points=1):\n",
    "    if bonus == True:\n",
    "        points = points*2\n",
    "    score = score + points\n",
    "    return score\n",
    "points = 5\n",
    "score = 10\n",
    "new_score = increment_score(score, True, points)"
   ]
  },
  {
   "cell_type": "code",
   "execution_count": 37,
   "id": "5ec72a91",
   "metadata": {},
   "outputs": [
    {
     "data": {
      "text/plain": [
       "11"
      ]
     },
     "execution_count": 37,
     "metadata": {},
     "output_type": "execute_result"
    }
   ],
   "source": [
    "increment_score(1,True,points)"
   ]
  },
  {
   "cell_type": "markdown",
   "id": "d8bbfc1e",
   "metadata": {},
   "source": [
    "TFFF"
   ]
  },
  {
   "cell_type": "code",
   "execution_count": 34,
   "id": "ea75f7bd",
   "metadata": {},
   "outputs": [
    {
     "name": "stdout",
     "output_type": "stream",
     "text": [
      "Enter a number with 1 or 2 digits : 30\n",
      "2 digits. \n"
     ]
    }
   ],
   "source": [
    "#Soal 2\n",
    "num = int(input(\"Enter a number with 1 or 2 digits : \"))\n",
    "digits = \"0\"\n",
    "if num > -10 and num < 10:\n",
    "    digits = \"1\"\n",
    "elif num >-100 and num < 100:\n",
    "    digits = \"2\"\n",
    "else:\n",
    "    digits = \">2\"\n",
    "print(digits + \" digits. \")"
   ]
  },
  {
   "cell_type": "code",
   "execution_count": 35,
   "id": "b86d8d28",
   "metadata": {},
   "outputs": [
    {
     "name": "stdout",
     "output_type": "stream",
     "text": [
      "apples and bananas and oranges\n"
     ]
    }
   ],
   "source": [
    "#Soal 3\n",
    "x = \"oranges\"\n",
    "y = \"apples\"\n",
    "z = \"bananas\"\n",
    "data = \"{1} and {0} and {2}\"\n",
    "print(data.format(z, y, x))"
   ]
  },
  {
   "cell_type": "code",
   "execution_count": null,
   "id": "5fcdcd90",
   "metadata": {},
   "outputs": [],
   "source": []
  }
 ],
 "metadata": {
  "kernelspec": {
   "display_name": "Python 3 (ipykernel)",
   "language": "python",
   "name": "python3"
  },
  "language_info": {
   "codemirror_mode": {
    "name": "ipython",
    "version": 3
   },
   "file_extension": ".py",
   "mimetype": "text/x-python",
   "name": "python",
   "nbconvert_exporter": "python",
   "pygments_lexer": "ipython3",
   "version": "3.9.7"
  }
 },
 "nbformat": 4,
 "nbformat_minor": 5
}
