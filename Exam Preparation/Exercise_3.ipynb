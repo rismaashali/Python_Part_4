{
 "cells": [
  {
   "cell_type": "markdown",
   "id": "f8bf0770",
   "metadata": {},
   "source": [
    "# Number 1\n",
    "\n",
    "A publishing company needs a way to find the count of specific letters in their publications to ensure that there is a good balance. It seems that there have been complaints about overuse of the letter e. You need to create a function to meet the requirements."
   ]
  },
  {
   "cell_type": "code",
   "execution_count": 2,
   "id": "7d0c69a8",
   "metadata": {},
   "outputs": [
    {
     "name": "stdout",
     "output_type": "stream",
     "text": [
      "which letter would you like to count e\n",
      "There are:  None intances of e\n"
     ]
    }
   ],
   "source": [
    "# Function accepts list of words from a file\n",
    "#    and letter to search for\n",
    "# Returns count of a particular letter in that list.\n",
    "\n",
    "def count_letter(letter, word_list):\n",
    "    count = 0\n",
    "    for word in word_list:\n",
    "        if letter in word:\n",
    "            count += 1\n",
    "        return count\n",
    "word_list = []\n",
    "\n",
    "# word_list is populated from a file. Code not shown.\n",
    "\n",
    "letter = input(\"which letter would you like to count \")\n",
    "letter_count = count_letter(letter, word_list)\n",
    "print(\"There are: \", letter_count, \"intances of \" + letter)"
   ]
  },
  {
   "cell_type": "markdown",
   "id": "4d5b5dab",
   "metadata": {},
   "source": [
    "# Number 2\n",
    "What dose the following statement do?"
   ]
  },
  {
   "cell_type": "code",
   "execution_count": 3,
   "id": "7c4f97c1",
   "metadata": {},
   "outputs": [
    {
     "name": "stdout",
     "output_type": "stream",
     "text": [
      "Data Scientist\n"
     ]
    }
   ],
   "source": [
    "data = input()\n",
    "\n",
    "# The answer : (B) Allows a user to enter text in the console"
   ]
  },
  {
   "cell_type": "markdown",
   "id": "afc7c249",
   "metadata": {},
   "source": [
    "# Number 3\n",
    "You run the program\n",
    "\n",
    "What is the output?"
   ]
  },
  {
   "cell_type": "code",
   "execution_count": 4,
   "id": "1052d6cb",
   "metadata": {},
   "outputs": [
    {
     "name": "stdout",
     "output_type": "stream",
     "text": [
      "April-07-17\n"
     ]
    }
   ],
   "source": [
    "import datetime\n",
    "d = datetime.datetime(2017, 4, 7)\n",
    "print('{:%B-%d-%y}'.format(d))\n",
    "\n",
    "# %B : month name, full version\n",
    "# %d : day of month, 01-31\n",
    "# %y : year, short version\n",
    "# %Y : year, full version"
   ]
  },
  {
   "cell_type": "markdown",
   "id": "bd2fea5a",
   "metadata": {},
   "source": [
    "# Number 4\n",
    "A friend asks you to refactor and document the following Python code\n",
    "\n",
    "You run the code\n",
    "\n",
    "What is the result?"
   ]
  },
  {
   "cell_type": "code",
   "execution_count": 5,
   "id": "ca0e3ad8",
   "metadata": {},
   "outputs": [
    {
     "name": "stdout",
     "output_type": "stream",
     "text": [
      "30.0\n"
     ]
    }
   ],
   "source": [
    "value1 = 24\n",
    "value2 = 7\n",
    "value3 = 17.9\n",
    "\n",
    "answer = (value1 % value2 * 100) // 2.0 ** 3.0 - value2\n",
    "print (answer)"
   ]
  },
  {
   "cell_type": "markdown",
   "id": "01dd5c71",
   "metadata": {},
   "source": [
    "# Number 5\n",
    "Create a Python script to evaluate text input and check to uppercase and lowercase!"
   ]
  },
  {
   "cell_type": "code",
   "execution_count": 6,
   "id": "038697c3",
   "metadata": {},
   "outputs": [
    {
     "name": "stdout",
     "output_type": "stream",
     "text": [
      "Enter your name: Risma Ashali\n",
      "Risma Ashali is mixed case.\n"
     ]
    }
   ],
   "source": [
    "name = input(\"Enter your name: \")\n",
    "if name.lower() == name:\n",
    "    print(name, \"is all lower case.\")\n",
    "elif name.upper() == name:\n",
    "    print(name, \"is all upper case.\")\n",
    "else:\n",
    "    print(name, \"is mixed case.\")"
   ]
  }
 ],
 "metadata": {
  "kernelspec": {
   "display_name": "Python 3 (ipykernel)",
   "language": "python",
   "name": "python3"
  },
  "language_info": {
   "codemirror_mode": {
    "name": "ipython",
    "version": 3
   },
   "file_extension": ".py",
   "mimetype": "text/x-python",
   "name": "python",
   "nbconvert_exporter": "python",
   "pygments_lexer": "ipython3",
   "version": "3.9.7"
  }
 },
 "nbformat": 4,
 "nbformat_minor": 5
}
