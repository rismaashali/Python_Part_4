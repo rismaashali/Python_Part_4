{
 "cells": [
  {
   "cell_type": "markdown",
   "id": "aa792cbf",
   "metadata": {},
   "source": [
    "No 1\n",
    "\n",
    "The Bicycle company is creating a program that allows customers to log the number of miles biked. The program will send messages based on how many miles the customer logs."
   ]
  },
  {
   "cell_type": "code",
   "execution_count": 11,
   "id": "e0ccb19d",
   "metadata": {},
   "outputs": [
    {
     "name": "stdout",
     "output_type": "stream",
     "text": [
      "How many miles did you bike this week? 32\n",
      "input your name here :irvan\n",
      "irvan you burned about 1600 calories\n"
     ]
    }
   ],
   "source": [
    "def get_name():\n",
    "    name = input('input your name here :')\n",
    "    return name\n",
    "def calc_calories(miles, calories_per_mile):\n",
    "    calories = miles * calories_per_mile\n",
    "    return calories\n",
    "distance = int(input('How many miles did you bike this week? '))\n",
    "burn_rate = 50 \n",
    "biker = get_name()\n",
    "calories_burned = calc_calories(distance,burn_rate)\n",
    "print(biker,'you burned about',calories_burned,'calories')"
   ]
  },
  {
   "cell_type": "markdown",
   "id": "6377a266",
   "metadata": {},
   "source": [
    "No 2\n",
    "\n",
    "You are creating a function to calculate admission fees by using Python. Admission fees are calculated based on the following rules: \n",
    "\n",
    "- Anyone under age 5 = free admission  \n",
    "- Anyone age 5 or older who is in school = 10 USD  \n",
    "- Anyone age 5 to 17 who is not in school = 20 USD \n",
    "- Anyone older than age 17 who is not in school = 50 USD \n"
   ]
  },
  {
   "cell_type": "code",
   "execution_count": 6,
   "id": "629ecfab",
   "metadata": {},
   "outputs": [
    {
     "data": {
      "text/plain": [
       "20"
      ]
     },
     "execution_count": 6,
     "metadata": {},
     "output_type": "execute_result"
    }
   ],
   "source": [
    "def admission_fee(age,school):\n",
    "    rate = 0\n",
    "    if age>=5 and school==True:\n",
    "        rate = 10\n",
    "    elif age>=5 and school==False:\n",
    "        if age<=17:\n",
    "            rate = 20\n",
    "        else:\n",
    "            rate = 50\n",
    "        \n",
    "    return rate\n",
    "\n",
    "admission_fee(5,False)"
   ]
  },
  {
   "cell_type": "markdown",
   "id": "2f7f76ee",
   "metadata": {},
   "source": [
    "No 3\n",
    "\n",
    "A food company needs a simple program that their call center will use to enter survey data for a new coffee variety.\n",
    "The program must accept input and return the average rating based on a five-star scale. The output must be rounded to two decimal places."
   ]
  },
  {
   "cell_type": "code",
   "execution_count": 8,
   "id": "160b1aed",
   "metadata": {},
   "outputs": [
    {
     "name": "stdout",
     "output_type": "stream",
     "text": [
      "Enter next rating (1-5, -1 for done : )4\n",
      "Enter next rating (1-5, -1 for done : )5\n",
      "Enter next rating (1-5, -1 for done : )3\n",
      "Enter next rating (1-5, -1 for done : )-1\n",
      "The average star rating for the new coffe is 4.00\n"
     ]
    }
   ],
   "source": [
    "sum = count = done = 0\n",
    "average = 0.0\n",
    "while done !=-1:\n",
    "    rating = float(input('Enter next rating (1-5, -1 for done : )'))\n",
    "    if rating == -1:\n",
    "        break\n",
    "    sum+=rating\n",
    "    count+=1\n",
    "    \n",
    "average = float(sum/count)\n",
    "print('The average star rating for the new coffe is '+format(average,'.2f'))"
   ]
  },
  {
   "cell_type": "markdown",
   "id": "8aa0f950",
   "metadata": {},
   "source": [
    "No 4\n",
    "\n",
    "Select true or false for each statement\n",
    "\n",
    "- A function call of grosspay() will create syntax error = False \n",
    "- A function call of grosspay(salary=500000) will return nothing = False \n",
    "- A function call of grosspay(pieces=500,piecerate=4) will return a result of 2000 = True"
   ]
  },
  {
   "cell_type": "code",
   "execution_count": 9,
   "id": "f15003c4",
   "metadata": {},
   "outputs": [
    {
     "name": "stdout",
     "output_type": "stream",
     "text": [
      "statement 1 1000\n",
      "statement 2 1000\n",
      "statement 3 2000\n"
     ]
    }
   ],
   "source": [
    "def grosspay(hours=40,rate=25,pieces=0,piecerate=0,salary=0):\n",
    "    overtime=0\n",
    "    if pieces > 0:\n",
    "        return pieces * piecerate\n",
    "    if salary > 0:\n",
    "        pass\n",
    "    if hours > 40:\n",
    "        overtime = (hours - 40)*(1.5*rate)\n",
    "        return overtime+(40*rate)\n",
    "    else:\n",
    "        return hours*rate\n",
    "    \n",
    "    \n",
    "print('statement 1',grosspay()) #False\n",
    "print('statement 2',grosspay(salary=50000)) #False\n",
    "print('statement 3',grosspay(pieces=500,piecerate=4)) #True"
   ]
  }
 ],
 "metadata": {
  "kernelspec": {
   "display_name": "Python 3 (ipykernel)",
   "language": "python",
   "name": "python3"
  },
  "language_info": {
   "codemirror_mode": {
    "name": "ipython",
    "version": 3
   },
   "file_extension": ".py",
   "mimetype": "text/x-python",
   "name": "python",
   "nbconvert_exporter": "python",
   "pygments_lexer": "ipython3",
   "version": "3.7.9"
  }
 },
 "nbformat": 4,
 "nbformat_minor": 5
}
