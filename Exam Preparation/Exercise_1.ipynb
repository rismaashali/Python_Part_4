{
 "cells": [
  {
   "cell_type": "code",
   "execution_count": 14,
   "id": "ea7ebba7",
   "metadata": {},
   "outputs": [
    {
     "name": "stdout",
     "output_type": "stream",
     "text": [
      "The total payroll is:  215000\n"
     ]
    }
   ],
   "source": [
    "employee_pay = [15000, 120000, 35000, 45000]\n",
    "count = 0\n",
    "sum = 0\n",
    "\n",
    "for index in range(len(employee_pay)):\n",
    "    count += 1\n",
    "    sum += employee_pay[index]\n",
    "average = sum/count\n",
    "print(\"The total payroll is: \", sum)"
   ]
  },
  {
   "cell_type": "code",
   "execution_count": 2,
   "id": "48dfd68f",
   "metadata": {},
   "outputs": [
    {
     "name": "stdout",
     "output_type": "stream",
     "text": [
      "Welcome to CompanyPro's Team-Building Weekend!\n",
      "Please enter your name (q to quit)? Abdul\n",
      "Abdul, your room number is 24\n",
      "You will meet with the Rafting Group this afternoon.\n",
      "Please enter your name (q to quit)? q\n"
     ]
    }
   ],
   "source": [
    "import random\n",
    "\n",
    "roomAssigned=[1]\n",
    "room_number=1\n",
    "groupList=['Ropes','Rafting','Obstacle','Wellness']\n",
    "count=0\n",
    "print(\"Welcome to CompanyPro's Team-Building Weekend!\")\n",
    "name=input(\"Please enter your name (q to quit)? \")\n",
    "while name != 'q' and count < 50:\n",
    "    while room_number in roomAssigned:\n",
    "        room_number=random.randint(1,50)\n",
    "    print(f\"{name}, your room number is {room_number}\")\n",
    "    roomAssigned.append(room_number)\n",
    "    group=random.choice(groupList)\n",
    "    print(f\"You will meet with the {group} Group this afternoon.\")\n",
    "    count+=1\n",
    "    name=input(\"Please enter your name (q to quit)? \")"
   ]
  },
  {
   "cell_type": "code",
   "execution_count": 4,
   "id": "6d7d90cb",
   "metadata": {},
   "outputs": [
    {
     "name": "stdout",
     "output_type": "stream",
     "text": [
      "Guess an integer from 1 to 10. You will have 3 chances.\n",
      "Guess an integer: 4\n",
      "Guess is too low\n",
      "Guess an integer: 3\n",
      "Guess is too low\n",
      "Guess an integer: 6\n",
      "Guess is too low\n"
     ]
    }
   ],
   "source": [
    "from random import randint\n",
    "\n",
    "target = randint(1,10)\n",
    "chance = 1\n",
    "print(\"Guess an integer from 1 to 10. You will have 3 chances.\")\n",
    "while chance <= 3:\n",
    "    guess = int(input(\"Guess an integer: \"))\n",
    "    if guess > target:\n",
    "        print(\"Guest is too high\")\n",
    "    elif guess < target:\n",
    "        print(\"Guess is too low\")\n",
    "    else:\n",
    "        print(\"Guess is just right!\")\n",
    "        break\n",
    "    chance += 1"
   ]
  },
  {
   "cell_type": "code",
   "execution_count": 6,
   "id": "a6128559",
   "metadata": {},
   "outputs": [],
   "source": [
    "# The calc_power function calculates exponents\n",
    "# x is the base\n",
    "# y is the exponent\n",
    "# The value of x raised to the y power is returned\n",
    "def calc_power(x, y):\n",
    "    comment = \"# Return the value\"\n",
    "    return x ** y # Raise x to the y power"
   ]
  }
 ],
 "metadata": {
  "kernelspec": {
   "display_name": "Python 3 (ipykernel)",
   "language": "python",
   "name": "python3"
  },
  "language_info": {
   "codemirror_mode": {
    "name": "ipython",
    "version": 3
   },
   "file_extension": ".py",
   "mimetype": "text/x-python",
   "name": "python",
   "nbconvert_exporter": "python",
   "pygments_lexer": "ipython3",
   "version": "3.9.12"
  }
 },
 "nbformat": 4,
 "nbformat_minor": 5
}
