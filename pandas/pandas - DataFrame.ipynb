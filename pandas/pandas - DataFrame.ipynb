{
 "cells": [
  {
   "cell_type": "markdown",
   "id": "7e92c70f",
   "metadata": {},
   "source": [
    "# DataFrame"
   ]
  },
  {
   "cell_type": "markdown",
   "id": "532c9502",
   "metadata": {},
   "source": [
    "A DataFrame is a data structure that organizes data into a 2-dimensional table of rows and columns, much like a spreadsheet.\n",
    "\n",
    "DataFrames are one of the most common data structures used in modern data analytics because they are a flexible and intuitive way of storing and working with data.\n",
    "\n",
    "We can create DataFrame from series or dictionary"
   ]
  },
  {
   "cell_type": "code",
   "execution_count": 9,
   "id": "ddfe9216",
   "metadata": {},
   "outputs": [
    {
     "data": {
      "text/html": [
       "<div>\n",
       "<style scoped>\n",
       "    .dataframe tbody tr th:only-of-type {\n",
       "        vertical-align: middle;\n",
       "    }\n",
       "\n",
       "    .dataframe tbody tr th {\n",
       "        vertical-align: top;\n",
       "    }\n",
       "\n",
       "    .dataframe thead th {\n",
       "        text-align: right;\n",
       "    }\n",
       "</style>\n",
       "<table border=\"1\" class=\"dataframe\">\n",
       "  <thead>\n",
       "    <tr style=\"text-align: right;\">\n",
       "      <th></th>\n",
       "      <th>populasi</th>\n",
       "      <th>luas</th>\n",
       "    </tr>\n",
       "  </thead>\n",
       "  <tbody>\n",
       "    <tr>\n",
       "      <th>Jakarta</th>\n",
       "      <td>750</td>\n",
       "      <td>737</td>\n",
       "    </tr>\n",
       "    <tr>\n",
       "      <th>Bogor</th>\n",
       "      <td>490</td>\n",
       "      <td>325</td>\n",
       "    </tr>\n",
       "    <tr>\n",
       "      <th>Depok</th>\n",
       "      <td>350</td>\n",
       "      <td>247</td>\n",
       "    </tr>\n",
       "    <tr>\n",
       "      <th>Tangerang</th>\n",
       "      <td>270</td>\n",
       "      <td>302</td>\n",
       "    </tr>\n",
       "    <tr>\n",
       "      <th>Bekasi</th>\n",
       "      <td>670</td>\n",
       "      <td>355</td>\n",
       "    </tr>\n",
       "  </tbody>\n",
       "</table>\n",
       "</div>"
      ],
      "text/plain": [
       "           populasi  luas\n",
       "Jakarta         750   737\n",
       "Bogor           490   325\n",
       "Depok           350   247\n",
       "Tangerang       270   302\n",
       "Bekasi          670   355"
      ]
     },
     "execution_count": 9,
     "metadata": {},
     "output_type": "execute_result"
    }
   ],
   "source": [
    "import pandas as pd\n",
    "\n",
    "dict_populasi = { #Create Dictionary\n",
    "    'Jakarta':750,\n",
    "    'Bogor':490,\n",
    "    'Depok':350,\n",
    "    'Tangerang':270,\n",
    "    'Bekasi':670\n",
    "}\n",
    "\n",
    "dict_luas = { #Create Dictionary\n",
    "    'Jakarta':737,\n",
    "    'Bogor':325,\n",
    "    'Depok':247,\n",
    "    'Tangerang':302,\n",
    "    'Bekasi':355\n",
    "}\n",
    "\n",
    "populasi = pd.Series(dict_populasi) #Create Series\n",
    "luas = pd.Series(dict_luas) #Create Series\n",
    "\n",
    "data = pd.DataFrame({'populasi':populasi, 'luas':luas}) #Create DataFrame from series\n",
    "data"
   ]
  },
  {
   "cell_type": "markdown",
   "id": "b0d60c06",
   "metadata": {},
   "source": [
    "## Task"
   ]
  },
  {
   "cell_type": "markdown",
   "id": "bce42e3c",
   "metadata": {},
   "source": [
    "Create our group member city, hobby and goal from dictionary to dataframe"
   ]
  },
  {
   "cell_type": "code",
   "execution_count": 7,
   "id": "c248388a",
   "metadata": {},
   "outputs": [
    {
     "data": {
      "text/html": [
       "<div>\n",
       "<style scoped>\n",
       "    .dataframe tbody tr th:only-of-type {\n",
       "        vertical-align: middle;\n",
       "    }\n",
       "\n",
       "    .dataframe tbody tr th {\n",
       "        vertical-align: top;\n",
       "    }\n",
       "\n",
       "    .dataframe thead th {\n",
       "        text-align: right;\n",
       "    }\n",
       "</style>\n",
       "<table border=\"1\" class=\"dataframe\">\n",
       "  <thead>\n",
       "    <tr style=\"text-align: right;\">\n",
       "      <th></th>\n",
       "      <th>Kota</th>\n",
       "      <th>hobi</th>\n",
       "      <th>cita-cita</th>\n",
       "    </tr>\n",
       "  </thead>\n",
       "  <tbody>\n",
       "    <tr>\n",
       "      <th>Irvan</th>\n",
       "      <td>Palembang</td>\n",
       "      <td>Main gitar</td>\n",
       "      <td>Pemusik</td>\n",
       "    </tr>\n",
       "    <tr>\n",
       "      <th>Jaza</th>\n",
       "      <td>Jogja</td>\n",
       "      <td>Masak</td>\n",
       "      <td>Pengusaha</td>\n",
       "    </tr>\n",
       "    <tr>\n",
       "      <th>Rizal</th>\n",
       "      <td>Bandung</td>\n",
       "      <td>Nonton</td>\n",
       "      <td>FreeLancer</td>\n",
       "    </tr>\n",
       "    <tr>\n",
       "      <th>Risma</th>\n",
       "      <td>Semarang</td>\n",
       "      <td>Membaca</td>\n",
       "      <td>Data Scientist</td>\n",
       "    </tr>\n",
       "    <tr>\n",
       "      <th>Shafira</th>\n",
       "      <td>Surabaya</td>\n",
       "      <td>Travelling</td>\n",
       "      <td>Data analyst</td>\n",
       "    </tr>\n",
       "  </tbody>\n",
       "</table>\n",
       "</div>"
      ],
      "text/plain": [
       "              Kota        hobi       cita-cita\n",
       "Irvan    Palembang  Main gitar         Pemusik\n",
       "Jaza         Jogja       Masak       Pengusaha\n",
       "Rizal      Bandung      Nonton      FreeLancer\n",
       "Risma     Semarang     Membaca  Data Scientist\n",
       "Shafira   Surabaya  Travelling    Data analyst"
      ]
     },
     "execution_count": 7,
     "metadata": {},
     "output_type": "execute_result"
    }
   ],
   "source": [
    "dict_kota = { #Create Dictionary\n",
    "    'Irvan':'Palembang',\n",
    "    'Jaza':'Jogja',\n",
    "    'Rizal':'Bandung',\n",
    "    'Risma':'Semarang',\n",
    "    'Shafira':'Surabaya'\n",
    "}\n",
    "\n",
    "dict_hobi = { #Create Dictionary\n",
    "    'Irvan':'Main gitar',\n",
    "    'Jaza':'Masak',\n",
    "    'Rizal':'Nonton',\n",
    "    'Risma':'Membaca',\n",
    "    'Shafira':'Travelling'\n",
    "}\n",
    "\n",
    "dict_cita2 = { #Create Dictionary\n",
    "    'Irvan':'Pemusik',\n",
    "    'Jaza':'Pengusaha',\n",
    "    'Rizal':'FreeLancer',\n",
    "    'Risma':'Data Scientist',\n",
    "    'Shafira':'Data analyst'\n",
    "}\n",
    "\n",
    "kota = pd.Series(dict_kota) #Create Series\n",
    "hobi = pd.Series(dict_hobi) #Create Series\n",
    "cita2= pd.Series(dict_cita2) #Create Series\n",
    "\n",
    "data = pd.DataFrame({'Kota':kota, 'hobi':hobi, 'cita-cita':cita2}) #Create DataFrame from series\n",
    "data"
   ]
  },
  {
   "cell_type": "code",
   "execution_count": 8,
   "id": "3b764342",
   "metadata": {},
   "outputs": [
    {
     "data": {
      "text/plain": [
       "'Palembang'"
      ]
     },
     "execution_count": 8,
     "metadata": {},
     "output_type": "execute_result"
    }
   ],
   "source": [
    "data['Kota']['Irvan'] #Search Series kota and index Irvan"
   ]
  }
 ],
 "metadata": {
  "kernelspec": {
   "display_name": "Python 3 (ipykernel)",
   "language": "python",
   "name": "python3"
  },
  "language_info": {
   "codemirror_mode": {
    "name": "ipython",
    "version": 3
   },
   "file_extension": ".py",
   "mimetype": "text/x-python",
   "name": "python",
   "nbconvert_exporter": "python",
   "pygments_lexer": "ipython3",
   "version": "3.7.9"
  }
 },
 "nbformat": 4,
 "nbformat_minor": 5
}
