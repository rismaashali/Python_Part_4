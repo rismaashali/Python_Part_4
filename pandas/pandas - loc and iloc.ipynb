{
 "cells": [
  {
   "cell_type": "markdown",
   "id": "1bd5bfd5",
   "metadata": {},
   "source": [
    "# loc and iloc"
   ]
  },
  {
   "cell_type": "markdown",
   "id": "3ede4a03",
   "metadata": {},
   "source": [
    "examples of data whose implicit indexes and explicit indexes exist the same."
   ]
  },
  {
   "cell_type": "code",
   "execution_count": 1,
   "id": "4be59508",
   "metadata": {},
   "outputs": [],
   "source": [
    "import pandas as pd\n",
    "import numpy as np"
   ]
  },
  {
   "cell_type": "code",
   "execution_count": 2,
   "id": "dca500fb",
   "metadata": {},
   "outputs": [],
   "source": [
    "data2 = pd.Series([0.25, 0.50, 0.75, 1], index=[2,5,3,7])"
   ]
  },
  {
   "cell_type": "code",
   "execution_count": 3,
   "id": "25b0ecbd",
   "metadata": {},
   "outputs": [
    {
     "data": {
      "text/plain": [
       "2    0.25\n",
       "5    0.50\n",
       "3    0.75\n",
       "7    1.00\n",
       "dtype: float64"
      ]
     },
     "execution_count": 3,
     "metadata": {},
     "output_type": "execute_result"
    }
   ],
   "source": [
    "data2"
   ]
  },
  {
   "cell_type": "markdown",
   "id": "7ba8fd0f",
   "metadata": {},
   "source": [
    "When we access one index then what appears is its explicit index."
   ]
  },
  {
   "cell_type": "code",
   "execution_count": 4,
   "id": "e700e5c2",
   "metadata": {},
   "outputs": [
    {
     "data": {
      "text/plain": [
       "0.25"
      ]
     },
     "execution_count": 4,
     "metadata": {},
     "output_type": "execute_result"
    }
   ],
   "source": [
    "data2[2] #explicit index : selecting"
   ]
  },
  {
   "cell_type": "markdown",
   "id": "b2dc85ce",
   "metadata": {},
   "source": [
    "When we call the explicit index from index 2 to index 3, the value that appears precisely from the implicit index."
   ]
  },
  {
   "cell_type": "code",
   "execution_count": 5,
   "id": "fad2defb",
   "metadata": {},
   "outputs": [
    {
     "data": {
      "text/plain": [
       "3    0.75\n",
       "dtype: float64"
      ]
     },
     "execution_count": 5,
     "metadata": {},
     "output_type": "execute_result"
    }
   ],
   "source": [
    "data2[2:3] #implicit index : slicing"
   ]
  },
  {
   "cell_type": "markdown",
   "id": "56b0470e",
   "metadata": {},
   "source": [
    "When the explicit index and the implicit index exist the same, there will be inconsistencies like the case above."
   ]
  },
  {
   "cell_type": "markdown",
   "id": "aa74d914",
   "metadata": {},
   "source": [
    "To overcome those, we will use the loc and iloc method.\n",
    "- loc is used to call explicit index\n",
    "- iloc is used to call implicit index"
   ]
  },
  {
   "cell_type": "code",
   "execution_count": 6,
   "id": "5b59d426",
   "metadata": {},
   "outputs": [
    {
     "data": {
      "text/plain": [
       "0.75"
      ]
     },
     "execution_count": 6,
     "metadata": {},
     "output_type": "execute_result"
    }
   ],
   "source": [
    "#loc\n",
    "\n",
    "data2.loc[3] # selecting explicit index"
   ]
  },
  {
   "cell_type": "code",
   "execution_count": 7,
   "id": "7b96c526",
   "metadata": {},
   "outputs": [
    {
     "data": {
      "text/plain": [
       "2    0.25\n",
       "5    0.50\n",
       "3    0.75\n",
       "dtype: float64"
      ]
     },
     "execution_count": 7,
     "metadata": {},
     "output_type": "execute_result"
    }
   ],
   "source": [
    "data2.loc[2:3] #slicing explicit index"
   ]
  },
  {
   "cell_type": "code",
   "execution_count": 8,
   "id": "2420b0b2",
   "metadata": {},
   "outputs": [
    {
     "data": {
      "text/plain": [
       "1.0"
      ]
     },
     "execution_count": 8,
     "metadata": {},
     "output_type": "execute_result"
    }
   ],
   "source": [
    "#iloc\n",
    "\n",
    "data2.iloc[3] #selecting implicit index"
   ]
  },
  {
   "cell_type": "code",
   "execution_count": 9,
   "id": "be0bd120",
   "metadata": {},
   "outputs": [
    {
     "data": {
      "text/plain": [
       "3    0.75\n",
       "dtype: float64"
      ]
     },
     "execution_count": 9,
     "metadata": {},
     "output_type": "execute_result"
    }
   ],
   "source": [
    "data2.iloc[2:3] #slicing implicit index"
   ]
  },
  {
   "cell_type": "markdown",
   "id": "df0059ee",
   "metadata": {},
   "source": [
    "# Task"
   ]
  },
  {
   "cell_type": "code",
   "execution_count": 10,
   "id": "56b388c4",
   "metadata": {},
   "outputs": [
    {
     "data": {
      "text/plain": [
       "a       Jaza\n",
       "b      Irvan\n",
       "c      Risma\n",
       "d      Rizal\n",
       "e    Shafira\n",
       "dtype: object"
      ]
     },
     "execution_count": 10,
     "metadata": {},
     "output_type": "execute_result"
    }
   ],
   "source": [
    "x = [\"Jaza\", \"Irvan\", \"Risma\", \"Rizal\", \"Shafira\"]\n",
    "x = pd.Series(x, index=['a','b','c','d','e'])\n",
    "x"
   ]
  },
  {
   "cell_type": "code",
   "execution_count": 11,
   "id": "bcddf5bc",
   "metadata": {},
   "outputs": [],
   "source": [
    "#loc"
   ]
  },
  {
   "cell_type": "code",
   "execution_count": 12,
   "id": "d05b54b4",
   "metadata": {},
   "outputs": [
    {
     "data": {
      "text/plain": [
       "'Risma'"
      ]
     },
     "execution_count": 12,
     "metadata": {},
     "output_type": "execute_result"
    }
   ],
   "source": [
    "one_par = x.loc['c'] # 1p\n",
    "one_par"
   ]
  },
  {
   "cell_type": "code",
   "execution_count": 13,
   "id": "30ee606d",
   "metadata": {},
   "outputs": [
    {
     "data": {
      "text/plain": [
       "a     Jaza\n",
       "b    Irvan\n",
       "c    Risma\n",
       "dtype: object"
      ]
     },
     "execution_count": 13,
     "metadata": {},
     "output_type": "execute_result"
    }
   ],
   "source": [
    "two_par = x.loc['a':'c'] # 2p\n",
    "two_par"
   ]
  },
  {
   "cell_type": "code",
   "execution_count": 14,
   "id": "17b0ab8a",
   "metadata": {},
   "outputs": [],
   "source": [
    "#iloc"
   ]
  },
  {
   "cell_type": "code",
   "execution_count": 15,
   "id": "9770ae77",
   "metadata": {},
   "outputs": [
    {
     "data": {
      "text/plain": [
       "'Risma'"
      ]
     },
     "execution_count": 15,
     "metadata": {},
     "output_type": "execute_result"
    }
   ],
   "source": [
    "one_par = x.iloc[2] # 1p\n",
    "one_par"
   ]
  },
  {
   "cell_type": "code",
   "execution_count": 16,
   "id": "25574154",
   "metadata": {},
   "outputs": [
    {
     "data": {
      "text/plain": [
       "a     Jaza\n",
       "b    Irvan\n",
       "dtype: object"
      ]
     },
     "execution_count": 16,
     "metadata": {},
     "output_type": "execute_result"
    }
   ],
   "source": [
    "two_par = x.iloc[0:2] # 2p\n",
    "two_par"
   ]
  }
 ],
 "metadata": {
  "kernelspec": {
   "display_name": "Python 3 (ipykernel)",
   "language": "python",
   "name": "python3"
  },
  "language_info": {
   "codemirror_mode": {
    "name": "ipython",
    "version": 3
   },
   "file_extension": ".py",
   "mimetype": "text/x-python",
   "name": "python",
   "nbconvert_exporter": "python",
   "pygments_lexer": "ipython3",
   "version": "3.9.7"
  }
 },
 "nbformat": 4,
 "nbformat_minor": 5
}
